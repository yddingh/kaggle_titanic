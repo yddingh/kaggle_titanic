{
 "cells": [
  {
   "cell_type": "code",
   "execution_count": 1,
   "id": "05b2bd1f",
   "metadata": {
    "_cell_guid": "b1076dfc-b9ad-4769-8c92-a6c4dae69d19",
    "_uuid": "8f2839f25d086af736a60e9eeb907d3b93b6e0e5",
    "execution": {
     "iopub.execute_input": "2025-07-14T03:02:02.235327Z",
     "iopub.status.busy": "2025-07-14T03:02:02.234948Z",
     "iopub.status.idle": "2025-07-14T03:02:04.381201Z",
     "shell.execute_reply": "2025-07-14T03:02:04.380110Z"
    },
    "papermill": {
     "duration": 2.152212,
     "end_time": "2025-07-14T03:02:04.382887",
     "exception": false,
     "start_time": "2025-07-14T03:02:02.230675",
     "status": "completed"
    },
    "tags": []
   },
   "outputs": [
    {
     "name": "stdout",
     "output_type": "stream",
     "text": [
      "/kaggle/input/spaceship-titanic/sample_submission.csv\n",
      "/kaggle/input/spaceship-titanic/train.csv\n",
      "/kaggle/input/spaceship-titanic/test.csv\n"
     ]
    }
   ],
   "source": [
    "# This Python 3 environment comes with many helpful analytics libraries installed\n",
    "# It is defined by the kaggle/python Docker image: https://github.com/kaggle/docker-python\n",
    "# For example, here's several helpful packages to load\n",
    "\n",
    "import numpy as np # linear algebra\n",
    "import pandas as pd # data processing, CSV file I/O (e.g. pd.read_csv)\n",
    "\n",
    "# Input data files are available in the read-only \"../input/\" directory\n",
    "# For example, running this (by clicking run or pressing Shift+Enter) will list all files under the input directory\n",
    "\n",
    "import os\n",
    "for dirname, _, filenames in os.walk('/kaggle/input'):\n",
    "    for filename in filenames:\n",
    "        print(os.path.join(dirname, filename))\n",
    "\n",
    "# You can write up to 20GB to the current directory (/kaggle/working/) that gets preserved as output when you create a version using \"Save & Run All\" \n",
    "# You can also write temporary files to /kaggle/temp/, but they won't be saved outside of the current session"
   ]
  },
  {
   "cell_type": "code",
   "execution_count": 2,
   "id": "e6a192e4",
   "metadata": {
    "execution": {
     "iopub.execute_input": "2025-07-14T03:02:04.390427Z",
     "iopub.status.busy": "2025-07-14T03:02:04.389406Z",
     "iopub.status.idle": "2025-07-14T03:02:04.474663Z",
     "shell.execute_reply": "2025-07-14T03:02:04.473475Z"
    },
    "papermill": {
     "duration": 0.090369,
     "end_time": "2025-07-14T03:02:04.476248",
     "exception": false,
     "start_time": "2025-07-14T03:02:04.385879",
     "status": "completed"
    },
    "tags": []
   },
   "outputs": [
    {
     "name": "stdout",
     "output_type": "stream",
     "text": [
      "shape of train: (8693, 14)\n",
      "shape of test: (4277, 13)\n"
     ]
    }
   ],
   "source": [
    "# input dataset\n",
    "train = pd.read_csv(\"/kaggle/input/spaceship-titanic/train.csv\")\n",
    "test = pd.read_csv(\"/kaggle/input/spaceship-titanic/test.csv\")\n",
    "\n",
    "# print the shape of dataset\n",
    "print(\"shape of train:\", train.shape)\n",
    "print(\"shape of test:\", test.shape,)"
   ]
  },
  {
   "cell_type": "code",
   "execution_count": 3,
   "id": "ba966133",
   "metadata": {
    "collapsed": true,
    "execution": {
     "iopub.execute_input": "2025-07-14T03:02:04.482549Z",
     "iopub.status.busy": "2025-07-14T03:02:04.482206Z",
     "iopub.status.idle": "2025-07-14T03:02:04.526423Z",
     "shell.execute_reply": "2025-07-14T03:02:04.525321Z"
    },
    "jupyter": {
     "outputs_hidden": true
    },
    "papermill": {
     "duration": 0.049105,
     "end_time": "2025-07-14T03:02:04.528022",
     "exception": false,
     "start_time": "2025-07-14T03:02:04.478917",
     "status": "completed"
    },
    "tags": []
   },
   "outputs": [
    {
     "name": "stdout",
     "output_type": "stream",
     "text": [
      "<class 'pandas.core.frame.DataFrame'>\n",
      "RangeIndex: 8693 entries, 0 to 8692\n",
      "Data columns (total 14 columns):\n",
      " #   Column        Non-Null Count  Dtype  \n",
      "---  ------        --------------  -----  \n",
      " 0   PassengerId   8693 non-null   object \n",
      " 1   HomePlanet    8492 non-null   object \n",
      " 2   CryoSleep     8476 non-null   object \n",
      " 3   Cabin         8494 non-null   object \n",
      " 4   Destination   8511 non-null   object \n",
      " 5   Age           8514 non-null   float64\n",
      " 6   VIP           8490 non-null   object \n",
      " 7   RoomService   8512 non-null   float64\n",
      " 8   FoodCourt     8510 non-null   float64\n",
      " 9   ShoppingMall  8485 non-null   float64\n",
      " 10  Spa           8510 non-null   float64\n",
      " 11  VRDeck        8505 non-null   float64\n",
      " 12  Name          8493 non-null   object \n",
      " 13  Transported   8693 non-null   bool   \n",
      "dtypes: bool(1), float64(6), object(7)\n",
      "memory usage: 891.5+ KB\n",
      "\n",
      "Missing Values\n",
      "PassengerId       0\n",
      "HomePlanet      201\n",
      "CryoSleep       217\n",
      "Cabin           199\n",
      "Destination     182\n",
      "Age             179\n",
      "VIP             203\n",
      "RoomService     181\n",
      "FoodCourt       183\n",
      "ShoppingMall    208\n",
      "Spa             183\n",
      "VRDeck          188\n",
      "Name            200\n",
      "Transported       0\n",
      "dtype: int64\n",
      "\n",
      "Unique Values:\n",
      "PassengerId: 8693\n",
      "HomePlanet: 3\n",
      "CryoSleep: 2\n",
      "Cabin: 6560\n",
      "Destination: 3\n",
      "VIP: 2\n",
      "Name: 8473\n"
     ]
    }
   ],
   "source": [
    "# check the contents of train set\n",
    "train.info()\n",
    "\n",
    "# check the missing values\n",
    "print(\"\\nMissing Values\")\n",
    "print(train.isnull().sum())\n",
    "\n",
    "# check the unique values\n",
    "print(\"\\nUnique Values:\")\n",
    "categorical_columns = train.select_dtypes(include='object').columns\n",
    "for col in categorical_columns:\n",
    "    print(f\"{col}: {train[col].nunique()}\")"
   ]
  },
  {
   "cell_type": "code",
   "execution_count": 4,
   "id": "4db36be0",
   "metadata": {
    "execution": {
     "iopub.execute_input": "2025-07-14T03:02:04.534402Z",
     "iopub.status.busy": "2025-07-14T03:02:04.534023Z",
     "iopub.status.idle": "2025-07-14T03:02:04.564976Z",
     "shell.execute_reply": "2025-07-14T03:02:04.563868Z"
    },
    "papermill": {
     "duration": 0.036226,
     "end_time": "2025-07-14T03:02:04.566897",
     "exception": false,
     "start_time": "2025-07-14T03:02:04.530671",
     "status": "completed"
    },
    "tags": []
   },
   "outputs": [
    {
     "name": "stdout",
     "output_type": "stream",
     "text": [
      "\n",
      "----Missing Values----\n",
      "PassengerId       0\n",
      "HomePlanet        0\n",
      "CryoSleep         0\n",
      "Cabin           199\n",
      "Destination       0\n",
      "Age               0\n",
      "VIP               0\n",
      "RoomService       0\n",
      "FoodCourt         0\n",
      "ShoppingMall      0\n",
      "Spa               0\n",
      "VRDeck            0\n",
      "Name            200\n",
      "Transported       0\n",
      "dtype: int64\n"
     ]
    },
    {
     "name": "stderr",
     "output_type": "stream",
     "text": [
      "/tmp/ipykernel_13/3391893031.py:5: FutureWarning: A value is trying to be set on a copy of a DataFrame or Series through chained assignment using an inplace method.\n",
      "The behavior will change in pandas 3.0. This inplace method will never work because the intermediate object on which we are setting values always behaves as a copy.\n",
      "\n",
      "For example, when doing 'df[col].method(value, inplace=True)', try using 'df.method({col: value}, inplace=True)' or df[col] = df[col].method(value) instead, to perform the operation inplace on the original object.\n",
      "\n",
      "\n",
      "  train[col].fillna(train[col].mode()[0], inplace=True)\n",
      "/tmp/ipykernel_13/3391893031.py:6: FutureWarning: A value is trying to be set on a copy of a DataFrame or Series through chained assignment using an inplace method.\n",
      "The behavior will change in pandas 3.0. This inplace method will never work because the intermediate object on which we are setting values always behaves as a copy.\n",
      "\n",
      "For example, when doing 'df[col].method(value, inplace=True)', try using 'df.method({col: value}, inplace=True)' or df[col] = df[col].method(value) instead, to perform the operation inplace on the original object.\n",
      "\n",
      "\n",
      "  test[col].fillna(test[col].mode()[0], inplace=True)\n",
      "/tmp/ipykernel_13/3391893031.py:5: FutureWarning: Downcasting object dtype arrays on .fillna, .ffill, .bfill is deprecated and will change in a future version. Call result.infer_objects(copy=False) instead. To opt-in to the future behavior, set `pd.set_option('future.no_silent_downcasting', True)`\n",
      "  train[col].fillna(train[col].mode()[0], inplace=True)\n",
      "/tmp/ipykernel_13/3391893031.py:6: FutureWarning: Downcasting object dtype arrays on .fillna, .ffill, .bfill is deprecated and will change in a future version. Call result.infer_objects(copy=False) instead. To opt-in to the future behavior, set `pd.set_option('future.no_silent_downcasting', True)`\n",
      "  test[col].fillna(test[col].mode()[0], inplace=True)\n",
      "/tmp/ipykernel_13/3391893031.py:10: FutureWarning: A value is trying to be set on a copy of a DataFrame or Series through chained assignment using an inplace method.\n",
      "The behavior will change in pandas 3.0. This inplace method will never work because the intermediate object on which we are setting values always behaves as a copy.\n",
      "\n",
      "For example, when doing 'df[col].method(value, inplace=True)', try using 'df.method({col: value}, inplace=True)' or df[col] = df[col].method(value) instead, to perform the operation inplace on the original object.\n",
      "\n",
      "\n",
      "  train[col].fillna(0, inplace=True)\n",
      "/tmp/ipykernel_13/3391893031.py:11: FutureWarning: A value is trying to be set on a copy of a DataFrame or Series through chained assignment using an inplace method.\n",
      "The behavior will change in pandas 3.0. This inplace method will never work because the intermediate object on which we are setting values always behaves as a copy.\n",
      "\n",
      "For example, when doing 'df[col].method(value, inplace=True)', try using 'df.method({col: value}, inplace=True)' or df[col] = df[col].method(value) instead, to perform the operation inplace on the original object.\n",
      "\n",
      "\n",
      "  test[col].fillna(0, inplace=True)\n",
      "/tmp/ipykernel_13/3391893031.py:14: FutureWarning: A value is trying to be set on a copy of a DataFrame or Series through chained assignment using an inplace method.\n",
      "The behavior will change in pandas 3.0. This inplace method will never work because the intermediate object on which we are setting values always behaves as a copy.\n",
      "\n",
      "For example, when doing 'df[col].method(value, inplace=True)', try using 'df.method({col: value}, inplace=True)' or df[col] = df[col].method(value) instead, to perform the operation inplace on the original object.\n",
      "\n",
      "\n",
      "  train['Age'].fillna(train['Age'].median(), inplace=True)\n",
      "/tmp/ipykernel_13/3391893031.py:15: FutureWarning: A value is trying to be set on a copy of a DataFrame or Series through chained assignment using an inplace method.\n",
      "The behavior will change in pandas 3.0. This inplace method will never work because the intermediate object on which we are setting values always behaves as a copy.\n",
      "\n",
      "For example, when doing 'df[col].method(value, inplace=True)', try using 'df.method({col: value}, inplace=True)' or df[col] = df[col].method(value) instead, to perform the operation inplace on the original object.\n",
      "\n",
      "\n",
      "  test['Age'].fillna(test['Age'].median(), inplace=True)\n"
     ]
    }
   ],
   "source": [
    "#Fill in the missing values\n",
    "\n",
    "# 1. categorical columns(except [name and [cabin]): 用众数填充\n",
    "for col in ['HomePlanet', 'CryoSleep', 'Destination', 'VIP']:\n",
    "    train[col].fillna(train[col].mode()[0], inplace=True)\n",
    "    test[col].fillna(test[col].mode()[0], inplace=True)\n",
    "\n",
    "# 2. numerical columns(except [age]): 用 0\n",
    "for col in ['RoomService', 'FoodCourt', 'ShoppingMall', 'Spa', 'VRDeck']:\n",
    "    train[col].fillna(0, inplace=True)\n",
    "    test[col].fillna(0, inplace=True)\n",
    "\n",
    "# 3. numerical columns([age]): 用中位数\n",
    "train['Age'].fillna(train['Age'].median(), inplace=True)\n",
    "test['Age'].fillna(test['Age'].median(), inplace=True)\n",
    "\n",
    "\n",
    "# 检查缺失值是否都填好了\n",
    "print(\"\\n----Missing Values----\")\n",
    "print(train.isnull().sum())"
   ]
  },
  {
   "cell_type": "code",
   "execution_count": 5,
   "id": "f03c832b",
   "metadata": {
    "execution": {
     "iopub.execute_input": "2025-07-14T03:02:04.574113Z",
     "iopub.status.busy": "2025-07-14T03:02:04.573432Z",
     "iopub.status.idle": "2025-07-14T03:02:04.694241Z",
     "shell.execute_reply": "2025-07-14T03:02:04.693175Z"
    },
    "papermill": {
     "duration": 0.126172,
     "end_time": "2025-07-14T03:02:04.695894",
     "exception": false,
     "start_time": "2025-07-14T03:02:04.569722",
     "status": "completed"
    },
    "tags": []
   },
   "outputs": [
    {
     "name": "stdout",
     "output_type": "stream",
     "text": [
      "训练集缺失值：\n",
      "PassengerId       0\n",
      "HomePlanet        0\n",
      "CryoSleep         0\n",
      "Destination       0\n",
      "Age               0\n",
      "VIP               0\n",
      "RoomService       0\n",
      "FoodCourt         0\n",
      "ShoppingMall      0\n",
      "Spa               0\n",
      "VRDeck            0\n",
      "Name            200\n",
      "Transported       0\n",
      "Deck              0\n",
      "CabinNum        199\n",
      "Side              0\n",
      "dtype: int64\n"
     ]
    },
    {
     "name": "stderr",
     "output_type": "stream",
     "text": [
      "/tmp/ipykernel_13/312136155.py:11: FutureWarning: A value is trying to be set on a copy of a DataFrame or Series through chained assignment using an inplace method.\n",
      "The behavior will change in pandas 3.0. This inplace method will never work because the intermediate object on which we are setting values always behaves as a copy.\n",
      "\n",
      "For example, when doing 'df[col].method(value, inplace=True)', try using 'df.method({col: value}, inplace=True)' or df[col] = df[col].method(value) instead, to perform the operation inplace on the original object.\n",
      "\n",
      "\n",
      "  train[col].fillna(train[col].mode()[0], inplace=True)\n",
      "/tmp/ipykernel_13/312136155.py:12: FutureWarning: A value is trying to be set on a copy of a DataFrame or Series through chained assignment using an inplace method.\n",
      "The behavior will change in pandas 3.0. This inplace method will never work because the intermediate object on which we are setting values always behaves as a copy.\n",
      "\n",
      "For example, when doing 'df[col].method(value, inplace=True)', try using 'df.method({col: value}, inplace=True)' or df[col] = df[col].method(value) instead, to perform the operation inplace on the original object.\n",
      "\n",
      "\n",
      "  test[col].fillna(test[col].mode()[0], inplace=True)\n"
     ]
    }
   ],
   "source": [
    "# 先把 Cabin 分成三部分\n",
    "train[['Deck', 'CabinNum', 'Side']] = train['Cabin'].str.split('/', expand=True)\n",
    "test[['Deck', 'CabinNum', 'Side']] = test['Cabin'].str.split('/', expand=True)\n",
    "\n",
    "# CabinNum 是数值型（部分模型可能用得上）\n",
    "train['CabinNum'] = pd.to_numeric(train['CabinNum'], errors='coerce')\n",
    "test['CabinNum'] = pd.to_numeric(test['CabinNum'], errors='coerce')\n",
    "\n",
    "# 填充 Deck 和 Side 缺失值为众数\n",
    "for col in ['Deck', 'Side']:\n",
    "    train[col].fillna(train[col].mode()[0], inplace=True)\n",
    "    test[col].fillna(test[col].mode()[0], inplace=True)\n",
    "\n",
    "# 删除原始 Cabin 列\n",
    "train.drop(columns=['Cabin'], inplace=True)\n",
    "test.drop(columns=['Cabin'], inplace=True)\n",
    "\n",
    "# 检查缺失值情况\n",
    "print(\"训练集缺失值：\")\n",
    "print(train.isnull().sum())"
   ]
  },
  {
   "cell_type": "code",
   "execution_count": 6,
   "id": "064c0697",
   "metadata": {
    "execution": {
     "iopub.execute_input": "2025-07-14T03:02:04.703248Z",
     "iopub.status.busy": "2025-07-14T03:02:04.702357Z",
     "iopub.status.idle": "2025-07-14T03:02:04.727101Z",
     "shell.execute_reply": "2025-07-14T03:02:04.725922Z"
    },
    "papermill": {
     "duration": 0.030113,
     "end_time": "2025-07-14T03:02:04.728834",
     "exception": false,
     "start_time": "2025-07-14T03:02:04.698721",
     "status": "completed"
    },
    "tags": []
   },
   "outputs": [
    {
     "name": "stdout",
     "output_type": "stream",
     "text": [
      "train 缺失值：\n",
      " Name    200\n",
      "dtype: int64\n",
      "test 缺失值：\n",
      " Name    94\n",
      "dtype: int64\n"
     ]
    },
    {
     "name": "stderr",
     "output_type": "stream",
     "text": [
      "/tmp/ipykernel_13/1483713643.py:7: FutureWarning: A value is trying to be set on a copy of a DataFrame or Series through chained assignment using an inplace method.\n",
      "The behavior will change in pandas 3.0. This inplace method will never work because the intermediate object on which we are setting values always behaves as a copy.\n",
      "\n",
      "For example, when doing 'df[col].method(value, inplace=True)', try using 'df.method({col: value}, inplace=True)' or df[col] = df[col].method(value) instead, to perform the operation inplace on the original object.\n",
      "\n",
      "\n",
      "  train['CabinNum'].fillna(cabin_median, inplace=True)\n",
      "/tmp/ipykernel_13/1483713643.py:8: FutureWarning: A value is trying to be set on a copy of a DataFrame or Series through chained assignment using an inplace method.\n",
      "The behavior will change in pandas 3.0. This inplace method will never work because the intermediate object on which we are setting values always behaves as a copy.\n",
      "\n",
      "For example, when doing 'df[col].method(value, inplace=True)', try using 'df.method({col: value}, inplace=True)' or df[col] = df[col].method(value) instead, to perform the operation inplace on the original object.\n",
      "\n",
      "\n",
      "  test['CabinNum'].fillna(cabin_median, inplace=True)\n"
     ]
    }
   ],
   "source": [
    "# 将 CabinNum 转为数值（如果尚未转）\n",
    "train['CabinNum'] = pd.to_numeric(train['CabinNum'], errors='coerce')\n",
    "test['CabinNum'] = pd.to_numeric(test['CabinNum'], errors='coerce')\n",
    "\n",
    "# 用训练集的中位数填补 CabinNum 的缺失值\n",
    "cabin_median = train['CabinNum'].median()\n",
    "train['CabinNum'].fillna(cabin_median, inplace=True)\n",
    "test['CabinNum'].fillna(cabin_median, inplace=True)\n",
    "\n",
    "# 检查是否完全没有缺失值\n",
    "print(\"train 缺失值：\\n\", train.isnull().sum()[train.isnull().sum() > 0])\n",
    "print(\"test 缺失值：\\n\", test.isnull().sum()[test.isnull().sum() > 0])\n"
   ]
  },
  {
   "cell_type": "code",
   "execution_count": 7,
   "id": "e94b108c",
   "metadata": {
    "execution": {
     "iopub.execute_input": "2025-07-14T03:02:04.736780Z",
     "iopub.status.busy": "2025-07-14T03:02:04.735892Z",
     "iopub.status.idle": "2025-07-14T03:02:08.028805Z",
     "shell.execute_reply": "2025-07-14T03:02:08.028043Z"
    },
    "papermill": {
     "duration": 3.298332,
     "end_time": "2025-07-14T03:02:08.030146",
     "exception": false,
     "start_time": "2025-07-14T03:02:04.731814",
     "status": "completed"
    },
    "tags": []
   },
   "outputs": [
    {
     "name": "stdout",
     "output_type": "stream",
     "text": [
      "验证集 Accuracy：0.8068\n"
     ]
    },
    {
     "data": {
      "text/html": [
       "<div>\n",
       "<style scoped>\n",
       "    .dataframe tbody tr th:only-of-type {\n",
       "        vertical-align: middle;\n",
       "    }\n",
       "\n",
       "    .dataframe tbody tr th {\n",
       "        vertical-align: top;\n",
       "    }\n",
       "\n",
       "    .dataframe thead th {\n",
       "        text-align: right;\n",
       "    }\n",
       "</style>\n",
       "<table border=\"1\" class=\"dataframe\">\n",
       "  <thead>\n",
       "    <tr style=\"text-align: right;\">\n",
       "      <th></th>\n",
       "      <th>PassengerId</th>\n",
       "      <th>Transported</th>\n",
       "    </tr>\n",
       "  </thead>\n",
       "  <tbody>\n",
       "    <tr>\n",
       "      <th>0</th>\n",
       "      <td>0013_01</td>\n",
       "      <td>True</td>\n",
       "    </tr>\n",
       "    <tr>\n",
       "      <th>1</th>\n",
       "      <td>0018_01</td>\n",
       "      <td>False</td>\n",
       "    </tr>\n",
       "    <tr>\n",
       "      <th>2</th>\n",
       "      <td>0019_01</td>\n",
       "      <td>True</td>\n",
       "    </tr>\n",
       "    <tr>\n",
       "      <th>3</th>\n",
       "      <td>0021_01</td>\n",
       "      <td>True</td>\n",
       "    </tr>\n",
       "    <tr>\n",
       "      <th>4</th>\n",
       "      <td>0023_01</td>\n",
       "      <td>False</td>\n",
       "    </tr>\n",
       "  </tbody>\n",
       "</table>\n",
       "</div>"
      ],
      "text/plain": [
       "  PassengerId  Transported\n",
       "0     0013_01         True\n",
       "1     0018_01        False\n",
       "2     0019_01         True\n",
       "3     0021_01         True\n",
       "4     0023_01        False"
      ]
     },
     "execution_count": 7,
     "metadata": {},
     "output_type": "execute_result"
    }
   ],
   "source": [
    "from sklearn.model_selection import train_test_split\n",
    "from sklearn.pipeline import Pipeline\n",
    "from sklearn.compose import ColumnTransformer\n",
    "from sklearn.preprocessing import StandardScaler, OneHotEncoder\n",
    "from sklearn.ensemble import RandomForestClassifier\n",
    "import pandas as pd\n",
    "\n",
    "# 保存 PassengerId（用于提交）\n",
    "test_ids = test['PassengerId'].copy()\n",
    "\n",
    "# 删除不需要的列\n",
    "train_model = train.drop(columns=['Name', 'PassengerId'], errors='ignore')\n",
    "test_model = test.drop(columns=['Name', 'PassengerId'], errors='ignore')\n",
    "\n",
    "# 特征和标签\n",
    "X = train_model.drop(columns='Transported')\n",
    "y = train_model['Transported']\n",
    "\n",
    "# 拆分训练和验证集\n",
    "X_train, X_val, y_train, y_val = train_test_split(\n",
    "    X, y, test_size=0.2, random_state=42, stratify=y\n",
    ")\n",
    "\n",
    "# 数值和类别特征\n",
    "num_cols = ['Age', 'RoomService', 'FoodCourt', 'ShoppingMall', 'Spa', 'VRDeck', 'CabinNum']\n",
    "cat_cols = ['HomePlanet', 'CryoSleep', 'Destination', 'VIP', 'Deck', 'Side']\n",
    "\n",
    "# 预处理器\n",
    "preprocessor = ColumnTransformer([\n",
    "    ('num', StandardScaler(), num_cols),\n",
    "    ('cat', OneHotEncoder(handle_unknown='ignore'), cat_cols)\n",
    "])\n",
    "\n",
    "# 模型管道\n",
    "clf = Pipeline(steps=[\n",
    "    ('preprocessor', preprocessor),\n",
    "    ('classifier', RandomForestClassifier(random_state=42))\n",
    "])\n",
    "\n",
    "# 训练模型\n",
    "clf.fit(X_train, y_train)\n",
    "\n",
    "# 验证精度\n",
    "val_score = clf.score(X_val, y_val)\n",
    "print(f\"验证集 Accuracy：{val_score:.4f}\")\n",
    "\n",
    "# 预测测试集\n",
    "preds = clf.predict(test_model)\n",
    "\n",
    "# 生成提交文件\n",
    "submission = pd.DataFrame({\n",
    "    'PassengerId': test_ids,\n",
    "    'Transported': preds.astype(bool)\n",
    "})\n",
    "\n",
    "submission.head()\n"
   ]
  }
 ],
 "metadata": {
  "kaggle": {
   "accelerator": "none",
   "dataSources": [
    {
     "databundleVersionId": 3220602,
     "sourceId": 34377,
     "sourceType": "competition"
    }
   ],
   "dockerImageVersionId": 31040,
   "isGpuEnabled": false,
   "isInternetEnabled": false,
   "language": "python",
   "sourceType": "notebook"
  },
  "kernelspec": {
   "display_name": "Python 3",
   "language": "python",
   "name": "python3"
  },
  "language_info": {
   "codemirror_mode": {
    "name": "ipython",
    "version": 3
   },
   "file_extension": ".py",
   "mimetype": "text/x-python",
   "name": "python",
   "nbconvert_exporter": "python",
   "pygments_lexer": "ipython3",
   "version": "3.11.11"
  },
  "papermill": {
   "default_parameters": {},
   "duration": 12.180665,
   "end_time": "2025-07-14T03:02:08.753503",
   "environment_variables": {},
   "exception": null,
   "input_path": "__notebook__.ipynb",
   "output_path": "__notebook__.ipynb",
   "parameters": {},
   "start_time": "2025-07-14T03:01:56.572838",
   "version": "2.6.0"
  }
 },
 "nbformat": 4,
 "nbformat_minor": 5
}
